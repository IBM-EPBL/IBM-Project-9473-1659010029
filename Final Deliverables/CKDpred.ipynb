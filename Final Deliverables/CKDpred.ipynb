{
  "cells": [
    {
      "cell_type": "code",
      "execution_count": 1,
      "metadata": {
        "id": "CfVxsz0dvs5Y"
      },
      "outputs": [],
      "source": [
        "from sklearn.ensemble import ExtraTreesClassifier\n",
        "from sklearn.model_selection import train_test_split\n",
        "from sklearn.model_selection import cross_val_score\n",
        "from sklearn.metrics import confusion_matrix\n",
        "from sklearn.metrics import accuracy_score\n",
        "from sklearn.compose import make_column_transformer\n",
        "from sklearn.pipeline import make_pipeline\n",
        "from sklearn.preprocessing import OneHotEncoder\n",
        "from sklearn.model_selection import RepeatedStratifiedKFold\n",
        "from sklearn.metrics import classification_report\n",
        "from numpy import mean\n",
        "from numpy import std\n",
        "from sklearn.model_selection import GridSearchCV\n",
        "from sklearn.datasets import make_classification\n",
        "from sklearn.model_selection import RepeatedStratifiedKFold\n",
        "from matplotlib import pyplot"
      ]
    },
    {
      "cell_type": "code",
      "execution_count": 3,
      "metadata": {
        "id": "47KR2fGW19L1",
        "colab": {
          "base_uri": "https://localhost:8080/",
          "height": 73
        },
        "outputId": "a26fb659-dedc-4321-e4aa-d8316a8a4c16"
      },
      "outputs": [
        {
          "output_type": "display_data",
          "data": {
            "text/plain": [
              "<IPython.core.display.HTML object>"
            ],
            "text/html": [
              "\n",
              "     <input type=\"file\" id=\"files-2e537464-4f6b-41df-9f57-8bf9adfc6ef9\" name=\"files[]\" multiple disabled\n",
              "        style=\"border:none\" />\n",
              "     <output id=\"result-2e537464-4f6b-41df-9f57-8bf9adfc6ef9\">\n",
              "      Upload widget is only available when the cell has been executed in the\n",
              "      current browser session. Please rerun this cell to enable.\n",
              "      </output>\n",
              "      <script>// Copyright 2017 Google LLC\n",
              "//\n",
              "// Licensed under the Apache License, Version 2.0 (the \"License\");\n",
              "// you may not use this file except in compliance with the License.\n",
              "// You may obtain a copy of the License at\n",
              "//\n",
              "//      http://www.apache.org/licenses/LICENSE-2.0\n",
              "//\n",
              "// Unless required by applicable law or agreed to in writing, software\n",
              "// distributed under the License is distributed on an \"AS IS\" BASIS,\n",
              "// WITHOUT WARRANTIES OR CONDITIONS OF ANY KIND, either express or implied.\n",
              "// See the License for the specific language governing permissions and\n",
              "// limitations under the License.\n",
              "\n",
              "/**\n",
              " * @fileoverview Helpers for google.colab Python module.\n",
              " */\n",
              "(function(scope) {\n",
              "function span(text, styleAttributes = {}) {\n",
              "  const element = document.createElement('span');\n",
              "  element.textContent = text;\n",
              "  for (const key of Object.keys(styleAttributes)) {\n",
              "    element.style[key] = styleAttributes[key];\n",
              "  }\n",
              "  return element;\n",
              "}\n",
              "\n",
              "// Max number of bytes which will be uploaded at a time.\n",
              "const MAX_PAYLOAD_SIZE = 100 * 1024;\n",
              "\n",
              "function _uploadFiles(inputId, outputId) {\n",
              "  const steps = uploadFilesStep(inputId, outputId);\n",
              "  const outputElement = document.getElementById(outputId);\n",
              "  // Cache steps on the outputElement to make it available for the next call\n",
              "  // to uploadFilesContinue from Python.\n",
              "  outputElement.steps = steps;\n",
              "\n",
              "  return _uploadFilesContinue(outputId);\n",
              "}\n",
              "\n",
              "// This is roughly an async generator (not supported in the browser yet),\n",
              "// where there are multiple asynchronous steps and the Python side is going\n",
              "// to poll for completion of each step.\n",
              "// This uses a Promise to block the python side on completion of each step,\n",
              "// then passes the result of the previous step as the input to the next step.\n",
              "function _uploadFilesContinue(outputId) {\n",
              "  const outputElement = document.getElementById(outputId);\n",
              "  const steps = outputElement.steps;\n",
              "\n",
              "  const next = steps.next(outputElement.lastPromiseValue);\n",
              "  return Promise.resolve(next.value.promise).then((value) => {\n",
              "    // Cache the last promise value to make it available to the next\n",
              "    // step of the generator.\n",
              "    outputElement.lastPromiseValue = value;\n",
              "    return next.value.response;\n",
              "  });\n",
              "}\n",
              "\n",
              "/**\n",
              " * Generator function which is called between each async step of the upload\n",
              " * process.\n",
              " * @param {string} inputId Element ID of the input file picker element.\n",
              " * @param {string} outputId Element ID of the output display.\n",
              " * @return {!Iterable<!Object>} Iterable of next steps.\n",
              " */\n",
              "function* uploadFilesStep(inputId, outputId) {\n",
              "  const inputElement = document.getElementById(inputId);\n",
              "  inputElement.disabled = false;\n",
              "\n",
              "  const outputElement = document.getElementById(outputId);\n",
              "  outputElement.innerHTML = '';\n",
              "\n",
              "  const pickedPromise = new Promise((resolve) => {\n",
              "    inputElement.addEventListener('change', (e) => {\n",
              "      resolve(e.target.files);\n",
              "    });\n",
              "  });\n",
              "\n",
              "  const cancel = document.createElement('button');\n",
              "  inputElement.parentElement.appendChild(cancel);\n",
              "  cancel.textContent = 'Cancel upload';\n",
              "  const cancelPromise = new Promise((resolve) => {\n",
              "    cancel.onclick = () => {\n",
              "      resolve(null);\n",
              "    };\n",
              "  });\n",
              "\n",
              "  // Wait for the user to pick the files.\n",
              "  const files = yield {\n",
              "    promise: Promise.race([pickedPromise, cancelPromise]),\n",
              "    response: {\n",
              "      action: 'starting',\n",
              "    }\n",
              "  };\n",
              "\n",
              "  cancel.remove();\n",
              "\n",
              "  // Disable the input element since further picks are not allowed.\n",
              "  inputElement.disabled = true;\n",
              "\n",
              "  if (!files) {\n",
              "    return {\n",
              "      response: {\n",
              "        action: 'complete',\n",
              "      }\n",
              "    };\n",
              "  }\n",
              "\n",
              "  for (const file of files) {\n",
              "    const li = document.createElement('li');\n",
              "    li.append(span(file.name, {fontWeight: 'bold'}));\n",
              "    li.append(span(\n",
              "        `(${file.type || 'n/a'}) - ${file.size} bytes, ` +\n",
              "        `last modified: ${\n",
              "            file.lastModifiedDate ? file.lastModifiedDate.toLocaleDateString() :\n",
              "                                    'n/a'} - `));\n",
              "    const percent = span('0% done');\n",
              "    li.appendChild(percent);\n",
              "\n",
              "    outputElement.appendChild(li);\n",
              "\n",
              "    const fileDataPromise = new Promise((resolve) => {\n",
              "      const reader = new FileReader();\n",
              "      reader.onload = (e) => {\n",
              "        resolve(e.target.result);\n",
              "      };\n",
              "      reader.readAsArrayBuffer(file);\n",
              "    });\n",
              "    // Wait for the data to be ready.\n",
              "    let fileData = yield {\n",
              "      promise: fileDataPromise,\n",
              "      response: {\n",
              "        action: 'continue',\n",
              "      }\n",
              "    };\n",
              "\n",
              "    // Use a chunked sending to avoid message size limits. See b/62115660.\n",
              "    let position = 0;\n",
              "    do {\n",
              "      const length = Math.min(fileData.byteLength - position, MAX_PAYLOAD_SIZE);\n",
              "      const chunk = new Uint8Array(fileData, position, length);\n",
              "      position += length;\n",
              "\n",
              "      const base64 = btoa(String.fromCharCode.apply(null, chunk));\n",
              "      yield {\n",
              "        response: {\n",
              "          action: 'append',\n",
              "          file: file.name,\n",
              "          data: base64,\n",
              "        },\n",
              "      };\n",
              "\n",
              "      let percentDone = fileData.byteLength === 0 ?\n",
              "          100 :\n",
              "          Math.round((position / fileData.byteLength) * 100);\n",
              "      percent.textContent = `${percentDone}% done`;\n",
              "\n",
              "    } while (position < fileData.byteLength);\n",
              "  }\n",
              "\n",
              "  // All done.\n",
              "  yield {\n",
              "    response: {\n",
              "      action: 'complete',\n",
              "    }\n",
              "  };\n",
              "}\n",
              "\n",
              "scope.google = scope.google || {};\n",
              "scope.google.colab = scope.google.colab || {};\n",
              "scope.google.colab._files = {\n",
              "  _uploadFiles,\n",
              "  _uploadFilesContinue,\n",
              "};\n",
              "})(self);\n",
              "</script> "
            ]
          },
          "metadata": {}
        },
        {
          "output_type": "stream",
          "name": "stdout",
          "text": [
            "Saving kidney_disease_train.csv to kidney_disease_train.csv\n"
          ]
        }
      ],
      "source": [
        "import pandas as pd\n",
        "import numpy as np\n",
        "import io\n",
        "from google.colab import files\n",
        "uploaded = files.upload()\n",
        "data = pd.read_csv(io.BytesIO(uploaded[\"kidney_disease_train.csv\"]))\n"
      ]
    },
    {
      "cell_type": "code",
      "execution_count": 5,
      "metadata": {
        "id": "ZgXOS9vs_wzx"
      },
      "outputs": [],
      "source": [
        "x = data\n",
        "y = data['classification']\n",
        "column_trans = make_column_transformer((OneHotEncoder(handle_unknown='ignore'),\n",
        "                                        [6, 7, 8,9,17,18,19,20,21,22,23,24,25]),\n",
        "                                      remainder='passthrough')\n",
        "\n",
        "xtrain, xtest, ytrain, ytest=train_test_split(x, y, test_size=0.15)\n",
        "xtrain = xtrain.replace((np.nan), \"0.0\").reset_index(drop=True)\n",
        "xtest = xtest.replace((np.nan), \"0.0\").reset_index(drop=True)\n"
      ]
    },
    {
      "cell_type": "code",
      "execution_count": 6,
      "metadata": {
        "id": "EyLYQhL6LfUt"
      },
      "outputs": [],
      "source": [
        "import os, ast\n",
        "CPU_NUMBER = 1\n",
        "if 'RUNTIME_HARDWARE_SPEC' in os.environ:\n",
        "    CPU_NUMBER = int(ast.literal_eval(os.environ['RUNTIME_HARDWARE_SPEC'])['num_cpu'])"
      ]
    },
    {
      "cell_type": "code",
      "execution_count": 7,
      "metadata": {
        "colab": {
          "base_uri": "https://localhost:8080/"
        },
        "id": "eWHJwdu3EzzI",
        "outputId": "d129e4ca-4f32-4bc2-f6ab-bdbc294303c6"
      },
      "outputs": [
        {
          "output_type": "execute_result",
          "data": {
            "text/plain": [
              "array(['ckd', 'ckd', 'ckd', 'notckd', 'ckd', 'notckd', 'ckd', 'ckd',\n",
              "       'notckd', 'ckd', 'notckd', 'notckd', 'notckd', 'ckd', 'ckd',\n",
              "       'notckd', 'ckd', 'ckd', 'ckd', 'notckd', 'ckd', 'ckd', 'ckd',\n",
              "       'notckd', 'ckd', 'notckd', 'notckd', 'ckd', 'ckd', 'ckd', 'ckd',\n",
              "       'ckd', 'ckd', 'ckd', 'ckd', 'notckd', 'ckd', 'ckd', 'notckd',\n",
              "       'notckd', 'notckd', 'notckd'], dtype=object)"
            ]
          },
          "metadata": {},
          "execution_count": 7
        }
      ],
      "source": [
        "extra_trees_classifier = ExtraTreesClassifier(\n",
        "    bootstrap=True,\n",
        "    class_weight=\"balanced\",\n",
        "    criterion=\"entropy\",\n",
        "    max_depth=5,\n",
        "    max_features=0.9978125453053365,\n",
        "    min_samples_split=3,\n",
        "    n_estimators=66,\n",
        "    n_jobs=CPU_NUMBER,\n",
        "    random_state=33,\n",
        ")\n",
        "pipe = make_pipeline(column_trans, extra_trees_classifier)\n",
        "\n",
        "pipe.fit(xtrain.values, ytrain.values.ravel());\n",
        "\n",
        "pipe.predict(xtest.values)"
      ]
    },
    {
      "cell_type": "markdown",
      "source": [
        "**Accuracy**"
      ],
      "metadata": {
        "id": "pf1IRzqeK2Nv"
      }
    },
    {
      "cell_type": "code",
      "source": [
        "from sklearn.metrics import get_scorer\n",
        "\n",
        "ypred = pipe.predict(xtrain.values)\n",
        "scorer = get_scorer('accuracy')\n",
        "score = scorer(pipe, xtest.values, ytest.values)\n",
        "print(\"Accuracy for training data:\",accuracy_score(ytrain,ypred))\n",
        "print(\"Accuracy for test data:\",score)"
      ],
      "metadata": {
        "colab": {
          "base_uri": "https://localhost:8080/"
        },
        "id": "2yOHKeN16ajw",
        "outputId": "72e6f1be-07e9-4158-b872-063d5d88d6b0"
      },
      "execution_count": 8,
      "outputs": [
        {
          "output_type": "stream",
          "name": "stdout",
          "text": [
            "Accuracy for training data: 1.0\n",
            "Accuracy for test data: 1.0\n"
          ]
        }
      ]
    },
    {
      "cell_type": "markdown",
      "source": [
        "**Confusion Matrix**"
      ],
      "metadata": {
        "id": "GM3gp444K6tk"
      }
    },
    {
      "cell_type": "code",
      "source": [
        "ypred = pipe.predict(xtest.values)\n",
        "\n",
        "cm = confusion_matrix(ytest, ypred)\n",
        "print(cm)"
      ],
      "metadata": {
        "colab": {
          "base_uri": "https://localhost:8080/"
        },
        "id": "J9YZxyvb4dhk",
        "outputId": "450e6024-d0ce-4f96-c670-d23f5f0eb8c3"
      },
      "execution_count": 9,
      "outputs": [
        {
          "output_type": "stream",
          "name": "stdout",
          "text": [
            "[[26  0]\n",
            " [ 0 16]]\n"
          ]
        }
      ]
    },
    {
      "cell_type": "markdown",
      "source": [
        "**Classification Report**"
      ],
      "metadata": {
        "id": "etgwITXnK_eO"
      }
    },
    {
      "cell_type": "code",
      "source": [
        "print(classification_report(ytest, ypred))"
      ],
      "metadata": {
        "colab": {
          "base_uri": "https://localhost:8080/"
        },
        "id": "6olz53t54tkQ",
        "outputId": "e0ed3c3f-43d4-4c9a-f8fc-e1f5cb5d231d"
      },
      "execution_count": 10,
      "outputs": [
        {
          "output_type": "stream",
          "name": "stdout",
          "text": [
            "              precision    recall  f1-score   support\n",
            "\n",
            "         ckd       1.00      1.00      1.00        26\n",
            "      notckd       1.00      1.00      1.00        16\n",
            "\n",
            "    accuracy                           1.00        42\n",
            "   macro avg       1.00      1.00      1.00        42\n",
            "weighted avg       1.00      1.00      1.00        42\n",
            "\n"
          ]
        }
      ]
    },
    {
      "cell_type": "markdown",
      "source": [
        "**Hyperparameter Tuning**"
      ],
      "metadata": {
        "id": "5yeaKrP_LGak"
      }
    },
    {
      "cell_type": "code",
      "source": [
        "#n_estimators\n",
        "parameters = {\n",
        "    'n_estimators': [10, 20, 50, 100, 200, 500, 1000, 1200, 1500, 1800, 1900, 2000, 2100, 3000]\n",
        "}\n",
        "clf = GridSearchCV(extra_trees_classifier, parameters, cv=5, verbose=3, n_jobs=-1)\n",
        "pipe = make_pipeline(column_trans, clf)\n",
        "\n",
        "pipe.fit(xtrain.values, ytrain.values.ravel());\n",
        "\n",
        "pred=pipe.predict(xtest.values)\n",
        "print(classification_report(ytest, pred))\n",
        " "
      ],
      "metadata": {
        "colab": {
          "base_uri": "https://localhost:8080/"
        },
        "id": "uuOZA9ob9agV",
        "outputId": "e57528b0-0e1f-4a25-8c19-64559c3b891f"
      },
      "execution_count": 11,
      "outputs": [
        {
          "output_type": "stream",
          "name": "stdout",
          "text": [
            "Fitting 5 folds for each of 14 candidates, totalling 70 fits\n",
            "              precision    recall  f1-score   support\n",
            "\n",
            "         ckd       1.00      1.00      1.00        26\n",
            "      notckd       1.00      1.00      1.00        16\n",
            "\n",
            "    accuracy                           1.00        42\n",
            "   macro avg       1.00      1.00      1.00        42\n",
            "weighted avg       1.00      1.00      1.00        42\n",
            "\n"
          ]
        }
      ]
    },
    {
      "cell_type": "code",
      "source": [
        "#criterion\n",
        "parameters = {\n",
        "    'criterion': ['gini', 'entropy']\n",
        "}\n",
        "clf = GridSearchCV(extra_trees_classifier, parameters, cv=5, verbose=3, n_jobs=-1)\n",
        "pipe = make_pipeline(column_trans, clf)\n",
        "\n",
        "pipe.fit(xtrain.values, ytrain.values.ravel());\n",
        "\n",
        "pred=pipe.predict(xtest.values)\n",
        "print(classification_report(ytest, pred))"
      ],
      "metadata": {
        "colab": {
          "base_uri": "https://localhost:8080/"
        },
        "id": "az_cH5tdHqXg",
        "outputId": "df2ef927-d3c2-4e8b-c8d2-2e42339b0221"
      },
      "execution_count": 12,
      "outputs": [
        {
          "output_type": "stream",
          "name": "stdout",
          "text": [
            "Fitting 5 folds for each of 2 candidates, totalling 10 fits\n",
            "              precision    recall  f1-score   support\n",
            "\n",
            "         ckd       1.00      1.00      1.00        26\n",
            "      notckd       1.00      1.00      1.00        16\n",
            "\n",
            "    accuracy                           1.00        42\n",
            "   macro avg       1.00      1.00      1.00        42\n",
            "weighted avg       1.00      1.00      1.00        42\n",
            "\n"
          ]
        }
      ]
    },
    {
      "cell_type": "code",
      "source": [
        "#max_depth\n",
        "parameters = {\n",
        "    'max_depth': [1, 2, 5, 8, 13, 21, 34, 53, 54, 55, 89, None]\n",
        "}\n",
        "clf = GridSearchCV(extra_trees_classifier, parameters, cv=5, verbose=3, n_jobs=-1)\n",
        "pipe = make_pipeline(column_trans, clf)\n",
        "\n",
        "pipe.fit(xtrain.values, ytrain.values.ravel());\n",
        "\n",
        "pred=pipe.predict(xtest.values)\n",
        "print(classification_report(ytest, pred))"
      ],
      "metadata": {
        "colab": {
          "base_uri": "https://localhost:8080/"
        },
        "id": "aJ-yI3tJH8qZ",
        "outputId": "0384dc6d-1cdb-4741-b271-666df8073723"
      },
      "execution_count": 13,
      "outputs": [
        {
          "output_type": "stream",
          "name": "stdout",
          "text": [
            "Fitting 5 folds for each of 12 candidates, totalling 60 fits\n",
            "              precision    recall  f1-score   support\n",
            "\n",
            "         ckd       1.00      1.00      1.00        26\n",
            "      notckd       1.00      1.00      1.00        16\n",
            "\n",
            "    accuracy                           1.00        42\n",
            "   macro avg       1.00      1.00      1.00        42\n",
            "weighted avg       1.00      1.00      1.00        42\n",
            "\n"
          ]
        }
      ]
    },
    {
      "cell_type": "code",
      "source": [
        "#min_samples_leaf\n",
        "parameters = {\n",
        "    'min_samples_leaf': [1, 2, 5, 8, 13, 21, 34, 55, 89, 144, 233, 377]\n",
        "}\n",
        "clf = GridSearchCV(extra_trees_classifier, parameters, cv=5, verbose=3, n_jobs=-1)\n",
        "pipe = make_pipeline(column_trans, clf)\n",
        "\n",
        "pipe.fit(xtrain.values, ytrain.values.ravel());\n",
        "\n",
        "pred=pipe.predict(xtest.values)\n",
        "print(classification_report(ytest, pred))"
      ],
      "metadata": {
        "colab": {
          "base_uri": "https://localhost:8080/"
        },
        "id": "BY9QLLScIWXt",
        "outputId": "b509abcf-c5e2-4419-e4ae-3be113d0895d"
      },
      "execution_count": 14,
      "outputs": [
        {
          "output_type": "stream",
          "name": "stdout",
          "text": [
            "Fitting 5 folds for each of 12 candidates, totalling 60 fits\n",
            "              precision    recall  f1-score   support\n",
            "\n",
            "         ckd       1.00      1.00      1.00        26\n",
            "      notckd       1.00      1.00      1.00        16\n",
            "\n",
            "    accuracy                           1.00        42\n",
            "   macro avg       1.00      1.00      1.00        42\n",
            "weighted avg       1.00      1.00      1.00        42\n",
            "\n"
          ]
        }
      ]
    },
    {
      "cell_type": "code",
      "source": [
        "#max_leaf_nodes\n",
        "parameters = {\n",
        "    'max_leaf_nodes': [2, 5, 8, 13, 21, 34, 55, 89, 144, 233, 377, None]\n",
        "}\n",
        "clf = GridSearchCV(extra_trees_classifier, parameters, cv=5, verbose=3, n_jobs=-1)\n",
        "pipe = make_pipeline(column_trans, clf)\n",
        "\n",
        "pipe.fit(xtrain.values, ytrain.values.ravel());\n",
        "\n",
        "pred=pipe.predict(xtest.values)\n",
        "print(classification_report(ytest, pred))"
      ],
      "metadata": {
        "colab": {
          "base_uri": "https://localhost:8080/"
        },
        "id": "5hr-XIE1IoDu",
        "outputId": "d680c235-772c-4df1-8a15-296b614f4d9f"
      },
      "execution_count": 15,
      "outputs": [
        {
          "output_type": "stream",
          "name": "stdout",
          "text": [
            "Fitting 5 folds for each of 12 candidates, totalling 60 fits\n",
            "              precision    recall  f1-score   support\n",
            "\n",
            "         ckd       1.00      1.00      1.00        26\n",
            "      notckd       1.00      1.00      1.00        16\n",
            "\n",
            "    accuracy                           1.00        42\n",
            "   macro avg       1.00      1.00      1.00        42\n",
            "weighted avg       1.00      1.00      1.00        42\n",
            "\n"
          ]
        }
      ]
    },
    {
      "cell_type": "markdown",
      "source": [
        "**Validation Method**"
      ],
      "metadata": {
        "id": "2KbLMU7tLNlk"
      }
    },
    {
      "cell_type": "code",
      "source": [
        "cv_scores = cross_val_score(pipe, xtrain, ytrain, cv=5 )\n",
        "print(\"Cross Validation average score: %.2f\" % cv_scores.mean())"
      ],
      "metadata": {
        "colab": {
          "base_uri": "https://localhost:8080/"
        },
        "id": "GD-CrjiUKVQG",
        "outputId": "3db0a51d-3db5-4d30-cd20-f4b0f10cac3c"
      },
      "execution_count": 16,
      "outputs": [
        {
          "output_type": "stream",
          "name": "stdout",
          "text": [
            "Fitting 5 folds for each of 12 candidates, totalling 60 fits\n",
            "Fitting 5 folds for each of 12 candidates, totalling 60 fits\n",
            "Fitting 5 folds for each of 12 candidates, totalling 60 fits\n",
            "Fitting 5 folds for each of 12 candidates, totalling 60 fits\n",
            "Fitting 5 folds for each of 12 candidates, totalling 60 fits\n",
            "Cross Validation average score: 1.00\n"
          ]
        }
      ]
    }
  ],
  "metadata": {
    "colab": {
      "provenance": []
    },
    "kernelspec": {
      "display_name": "Python 3",
      "name": "python3"
    },
    "language_info": {
      "name": "python"
    }
  },
  "nbformat": 4,
  "nbformat_minor": 0
}